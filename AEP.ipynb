{
 "cells": [
  {
   "cell_type": "code",
   "execution_count": null,
   "id": "42b46c2c",
   "metadata": {},
   "outputs": [],
   "source": [
    "import webbrowser\n",
    "webbrowser.open('http://inventwithpython.com/')"
   ]
  },
  {
   "cell_type": "code",
   "execution_count": null,
   "id": "144fa997",
   "metadata": {},
   "outputs": [],
   "source": [
    "maplt vidyavardhaka collage, Gokulam, Mysuru"
   ]
  },
  {
   "cell_type": "code",
   "execution_count": null,
   "id": "88cb593c",
   "metadata": {},
   "outputs": [],
   "source": [
    "Mysuru railway station\n"
   ]
  },
  {
   "cell_type": "code",
   "execution_count": null,
   "id": "2f66d346",
   "metadata": {},
   "outputs": [],
   "source": [
    "import webbrowser, sys, pyperclip\n",
    "\n",
    "if len(sys.argv) > 5:\n",
    "# Get address from command line.\n",
    "    address = ' '.join(sys.argv[1:])\n",
    "else:\n",
    "    address = pyperclip.paste()\n",
    "print(address)\n",
    "webbrowser.open('https://www.google.com/maps/place/' + address)"
   ]
  },
  {
   "cell_type": "code",
   "execution_count": null,
   "id": "4b2f5bac",
   "metadata": {},
   "outputs": [],
   "source": [
    "!pip install pyperclip"
   ]
  },
  {
   "cell_type": "markdown",
   "id": "fb76ad8a",
   "metadata": {},
   "source": [
    "# HTML"
   ]
  },
  {
   "cell_type": "code",
   "execution_count": null,
   "id": "51358d73",
   "metadata": {},
   "outputs": [],
   "source": [
    "import requests\n",
    "res = requests.get('https://vvce.ac.in/')\n",
    "print(res.status_code)\n",
    "print(res.status_code == requests.codes.ok)\n",
    "print(len(res.text))\n",
    "print(res)\n",
    "print(res.text)"
   ]
  },
  {
   "cell_type": "code",
   "execution_count": null,
   "id": "507ae4ae",
   "metadata": {},
   "outputs": [],
   "source": [
    "import requests\n",
    "res = requests.get('http://inventwithpython.com/page_that_does_not_exist')\n",
    "res.raise_for_status()"
   ]
  },
  {
   "cell_type": "code",
   "execution_count": null,
   "id": "e2d5cad2",
   "metadata": {},
   "outputs": [],
   "source": [
    "import requests\n",
    "res = requests.get('https://vvce.ac.in/')\n",
    "res.raise_for_status()\n",
    "playFile = open('newfile.txt', 'wb')\n",
    "for chunk in res.iter_content(100):\n",
    "    \n",
    "    playFile.write(chunk)\n",
    "\n",
    "playFile.close()\n"
   ]
  },
  {
   "cell_type": "markdown",
   "id": "8a9e9025",
   "metadata": {},
   "source": [
    "# Beautiful Soup"
   ]
  },
  {
   "cell_type": "code",
   "execution_count": null,
   "id": "f78f2391",
   "metadata": {},
   "outputs": [],
   "source": [
    "import bs4\n",
    "exampleFile = open('example.html')\n",
    "exampleSoup = bs4.BeautifulSoup(exampleFile.read())\n",
    "elems = exampleSoup.select('div')\n",
    "\n",
    "for i in elems:\n",
    "    print(i)\n",
    "    print(\"*******\")"
   ]
  },
  {
   "cell_type": "code",
   "execution_count": null,
   "id": "efa51661",
   "metadata": {},
   "outputs": [],
   "source": [
    "!pip install selenium"
   ]
  },
  {
   "cell_type": "markdown",
   "id": "856ded2b",
   "metadata": {},
   "source": [
    "# Controlling the Browser with the selenium Module"
   ]
  },
  {
   "cell_type": "code",
   "execution_count": null,
   "id": "0a094a9a",
   "metadata": {},
   "outputs": [],
   "source": [
    "from selenium import webdriver\n",
    "\n",
    "browser = webdriver.Chrome('D:\\\\chromedriver_win32\\\\chromedriver.exe')\n",
    "type(browser)\n",
    "browser.get('http://inventwithpython.com')\n",
    "webelement=browser.find_element_by_link_text('30% off your preorder')\n",
    "print(type(webelement))\n",
    "print(webelement.tag_name)\n",
    "print(webelement.text)\n"
   ]
  },
  {
   "cell_type": "code",
   "execution_count": null,
   "id": "bd871a3b",
   "metadata": {},
   "outputs": [],
   "source": [
    "from selenium import webdriver\n",
    "browser = webdriver.Chrome('D:\\\\chromedriver_win32\\\\chromedriver.exe')\n",
    "browser.get('http://inventwithpython.com')\n",
    "linkElem = browser.find_element_by_link_text('30% off your preorder')\n",
    "\n",
    "linkElem.click()"
   ]
  },
  {
   "cell_type": "markdown",
   "id": "24de2bfd",
   "metadata": {},
   "source": [
    "Attributes                         Meanings\n",
    "Keys.DOWN, Keys.UP, Keys.LEFT,\n",
    "Keys.RIGHT\n",
    "                                   The keyboard arrow keys\n",
    "Keys.ENTER, Keys.RETURN            The enter and return keys\n",
    "Keys.HOME, Keys.END, Keys.PAGE_DOWN,\n",
    "Keys.PAGE_UP\n",
    "                                   The home, end, pagedown, and pageup keys\n",
    "Keys.ESCAPE, Keys.BACK_SPACE,\n",
    "Keys.DELETE\n",
    "                                   The esc, backspace, and delete keys\n",
    "Keys.F1, Keys.F2, . . . , Keys.F12 The F1 to F12 keys at the top of the keyboard\n",
    "Keys.TAB                           The tab key"
   ]
  },
  {
   "cell_type": "code",
   "execution_count": null,
   "id": "d2982b6c",
   "metadata": {},
   "outputs": [],
   "source": [
    "from selenium import webdriver\n",
    "from selenium.webdriver.common.keys import Keys\n",
    "browser = webdriver.Chrome('D:\\\\chromedriver_win32\\\\chromedriver.exe')\n",
    "browser.get('http://nostarch.com')\n",
    "htmlElem = browser.find_element_by_tag_name('html')\n",
    "htmlElem.send_keys(Keys.END) # scrolls to bottom\n",
    "htmlElem.send_keys(Keys.HOME) #\n",
    "browser.back() \n",
    "browser.forward() #Clicks the Forward button.\n",
    "browser.refresh() #Clicks the Refresh/Reload button.\n",
    "browser.quit()\n"
   ]
  },
  {
   "cell_type": "markdown",
   "id": "ff0a85f1",
   "metadata": {},
   "source": [
    "# Working with excel Sheets"
   ]
  },
  {
   "cell_type": "code",
   "execution_count": null,
   "id": "4a4b175b",
   "metadata": {},
   "outputs": [],
   "source": [
    ">>> import openpyxl\n",
    ">>> wb = openpyxl.load_workbook('example.xlsx')\n",
    ">>> wb.get_sheet_names()\n"
   ]
  },
  {
   "cell_type": "code",
   "execution_count": null,
   "id": "215fc331",
   "metadata": {},
   "outputs": [],
   "source": [
    "anotherSheet = wb.get_active_sheet()\n",
    ">>> anotherSheet"
   ]
  },
  {
   "cell_type": "code",
   "execution_count": null,
   "id": "d2307c4e",
   "metadata": {},
   "outputs": [],
   "source": [
    ">>> import openpyxl\n",
    ">>> wb = openpyxl.load_workbook('example.xlsx')\n",
    ">>> type(wb)"
   ]
  },
  {
   "cell_type": "code",
   "execution_count": null,
   "id": "0c054cdb",
   "metadata": {},
   "outputs": [],
   "source": [
    ">>> import openpyxl\n",
    ">>> wb = openpyxl.load_workbook('example.xlsx')\n",
    ">>> sheet = wb.get_sheet_by_name('Sheet')\n",
    ">>> sheet['B4']\n",
    "sheet['B4'].value"
   ]
  },
  {
   "cell_type": "code",
   "execution_count": null,
   "id": "b05a5e75",
   "metadata": {},
   "outputs": [],
   "source": [
    "sheet.cell(row=1, column=3).value"
   ]
  },
  {
   "cell_type": "code",
   "execution_count": null,
   "id": "bb7fad7c",
   "metadata": {},
   "outputs": [],
   "source": [
    "c = sheet['B1']\n",
    ">>> c.value\n",
    "'Row ' + str(c.row) + ', Column ' + str(c.column) + ' is ' + str(c.value)"
   ]
  },
  {
   "cell_type": "code",
   "execution_count": null,
   "id": "92b9655a",
   "metadata": {},
   "outputs": [],
   "source": [
    "'Cell ' + c.coordinate + ' is ' + str(c.value)"
   ]
  },
  {
   "cell_type": "code",
   "execution_count": null,
   "id": "649b68b5",
   "metadata": {},
   "outputs": [],
   "source": [
    "sheet.cell(row=2, column=2).value"
   ]
  },
  {
   "cell_type": "code",
   "execution_count": null,
   "id": "4305b11d",
   "metadata": {},
   "outputs": [],
   "source": [
    "for i in range(1,8,2):\n",
    "    print(i, sheet.cell(row=i, column=2).value)"
   ]
  },
  {
   "cell_type": "code",
   "execution_count": null,
   "id": "d4372cd6",
   "metadata": {},
   "outputs": [],
   "source": []
  },
  {
   "cell_type": "code",
   "execution_count": null,
   "id": "454e15fb",
   "metadata": {},
   "outputs": [],
   "source": [
    ">>> import openpyxl\n",
    ">>> wb = openpyxl.load_workbook('example.xlsx')\n",
    ">>> sheet = wb.get_sheet_by_name('Sheet1')\n",
    ">>> sheet.get_highest_row()"
   ]
  },
  {
   "cell_type": "code",
   "execution_count": null,
   "id": "a5562e58",
   "metadata": {},
   "outputs": [],
   "source": [
    "import openpyxl\n",
    ">>> wb = openpyxl.load_workbook('example.xlsx')\n",
    ">>> sheet = wb.get_sheet_by_name('Sheet')\n",
    ">>> sheet['A2']\n",
    "sheet['A1'].value\n"
   ]
  },
  {
   "cell_type": "code",
   "execution_count": null,
   "id": "45d7e4ee",
   "metadata": {},
   "outputs": [],
   "source": [
    ">>> import openpyxl\n",
    ">>> wb = openpyxl.load_workbook('example.xlsx')\n",
    ">>> sheet = wb.get_active_sheet()\n",
    ">>> sheet.column=6"
   ]
  },
  {
   "cell_type": "code",
   "execution_count": null,
   "id": "742ec78f",
   "metadata": {},
   "outputs": [],
   "source": [
    "import openpyxl\n",
    ">>> wb = openpyxl.load_workbook('example.xlsx')\n",
    ">>> sheet = wb.get_sheet_by_name('Sheet')\n",
    ">>> tuple(sheet['A1':'D3'])\n",
    "for rowOfCellObjects in sheet['A1':'D3']:\n",
    "    for cellObj in rowOfCellObjects:\n",
    "        print(cellObj.coordinate, cellObj.value)\n",
    "    print('--- END OF ROW ---')"
   ]
  },
  {
   "cell_type": "code",
   "execution_count": null,
   "id": "dba478f4",
   "metadata": {},
   "outputs": [],
   "source": [
    "import openpyxl\n",
    "wb = openpyxl.load_workbook('example.xlsx')\n",
    "print(wb.get_sheet_names())\n",
    "#anotherSheet = wb.get_active_sheet()\n",
    "\n",
    "sheet = wb.get_sheet_by_name('Sheet')\n",
    "cell=sheet['A5']\n",
    "\n",
    "print(cell.value)\n",
    "\n",
    "print(sheet.cell(row=1, column=1).value)\n",
    "\n",
    "for i in range(1, 8, 2):\n",
    "    print(i, sheet.cell(row=i, column=2).value)\n",
    "#print(sheet.get_highest_row())"
   ]
  },
  {
   "cell_type": "markdown",
   "id": "1550a5f4",
   "metadata": {},
   "source": [
    "import openpyxl\n",
    "wb = openpyxl.Workbook('C:\\\\Users\\\\User\\\\Desktop\\\\example.xlsx')\n",
    "sheet = wb.get_sheet_by_name('Sheet1')\n",
    "sheet['A7'] = 'Hello world!'\n",
    "sheet['A7'].value\n",
    "wb.save('C:\\\\Users\\\\VVCE\\\\Desktop\\\\example.xlsx')"
   ]
  },
  {
   "cell_type": "code",
   "execution_count": null,
   "id": "fd064cfb",
   "metadata": {},
   "outputs": [],
   "source": [
    "import openpyxl\n",
    "wb = openpyxl.Workbook()\n",
    "print(wb.get_sheet_names())\n",
    "sheet = wb.get_sheet_by_name(\"Sheet\")\n",
    "sheet['A1'] = 'Hello world!'\n",
    "sheet['A1'].value\n",
    "wb.save('new.xlsx')"
   ]
  },
  {
   "cell_type": "code",
   "execution_count": null,
   "id": "bf0dd8c8",
   "metadata": {},
   "outputs": [],
   "source": [
    "import openpyxl\n",
    ">>> wb = openpyxl.load_workbook('example.xlsx')\n",
    "\n",
    ">>> sheet = wb.get_sheet_by_name('Sheet1')\n",
    ">>> sheet.get_highest_row()\n",
    ">>> sheet.get_highest_column()"
   ]
  },
  {
   "cell_type": "code",
   "execution_count": null,
   "id": "a820e006",
   "metadata": {},
   "outputs": [],
   "source": [
    ">>> import openpyxl\n",
    ">>> wb = openpyxl.load_workbook('example.xlsx')\n",
    ">>> type(wb)"
   ]
  },
  {
   "cell_type": "code",
   "execution_count": null,
   "id": "74b783aa",
   "metadata": {},
   "outputs": [],
   "source": [
    ">>> import openpyxl\n",
    ">>> wb = openpyxl.load_workbook('example.xlsx')\n",
    ">>> sheet = wb.get_sheet_by_name('Sheet1')\n",
    ">>> sheet['A1']\n",
    "sheet['A1'].value"
   ]
  },
  {
   "cell_type": "code",
   "execution_count": null,
   "id": "2e2cb7e4",
   "metadata": {},
   "outputs": [],
   "source": [
    "c = sheet['B1']\n",
    ">>> c.value"
   ]
  },
  {
   "cell_type": "code",
   "execution_count": null,
   "id": "01c2de4d",
   "metadata": {},
   "outputs": [],
   "source": [
    "'Row ' + str(c.row) + ', Column ' + str(c.column) + ' is ' + str(c.value)"
   ]
  },
  {
   "cell_type": "code",
   "execution_count": null,
   "id": "bdfe4b9c",
   "metadata": {},
   "outputs": [],
   "source": [
    "'Cell ' + c.coordinate + ' is ' + str(c.value)"
   ]
  },
  {
   "cell_type": "code",
   "execution_count": null,
   "id": "534b8808",
   "metadata": {},
   "outputs": [],
   "source": [
    "sheet.cell(row=1, column=3).value"
   ]
  },
  {
   "cell_type": "code",
   "execution_count": null,
   "id": "d0f7c9ba",
   "metadata": {},
   "outputs": [],
   "source": [
    "for i in range(1, 8,2):\n",
    "    print(i, sheet.cell(row=i, column=2).value)"
   ]
  },
  {
   "cell_type": "code",
   "execution_count": null,
   "id": "ff23296d",
   "metadata": {},
   "outputs": [],
   "source": [
    ">>> import openpyxl\n",
    ">>> wb = openpyxl.load_workbook('example.xlsx')\n",
    ">>> sheet = wb.get_sheet_by_name('Sheet1')\n",
    ">>> sheet.get_highest_row()"
   ]
  },
  {
   "cell_type": "markdown",
   "id": "4af99983",
   "metadata": {},
   "source": [
    "# working with PDF and word"
   ]
  },
  {
   "cell_type": "code",
   "execution_count": null,
   "id": "a320376f",
   "metadata": {},
   "outputs": [],
   "source": [
    "pip install PyPDF2"
   ]
  },
  {
   "cell_type": "code",
   "execution_count": null,
   "id": "64952914",
   "metadata": {},
   "outputs": [],
   "source": [
    "import PyPDF2\n",
    "pdfFileObj = open('Schedule.pdf', 'rb')\n",
    "pdfReader = PyPDF2.PdfFileReader(pdfFileObj)\n",
    "pdfReader.numPages\n",
    "pageObj = pdfReader.getPage(0)\n",
    "pageObj.extractText()"
   ]
  },
  {
   "cell_type": "code",
   "execution_count": null,
   "id": "a57cef99",
   "metadata": {},
   "outputs": [],
   "source": [
    "import PyPDF2\n",
    ">>> pdfReader = PyPDF2.PdfFileReader(open('Schedule.pdf', 'rb'))\n",
    ">>> pdfReader.isEncrypted"
   ]
  },
  {
   "cell_type": "code",
   "execution_count": null,
   "id": "963755e9",
   "metadata": {},
   "outputs": [],
   "source": [
    "pdfReader.getPage(0)\n",
    "pdfReader.decrypt('rosebud')\n",
    "pageObj = pdfReader.getPage(0)"
   ]
  },
  {
   "cell_type": "code",
   "execution_count": null,
   "id": "708377ea",
   "metadata": {},
   "outputs": [],
   "source": [
    ">>> import PyPDF2\n",
    ">>> pdf1File = open('Schedule.pdf', 'rb')\n",
    ">>> pdf2File = open('Schedule.pdf', 'rb')\n",
    ">>> pdf1Reader = PyPDF2.PdfFileReader(pdf1File)\n",
    ">>> pdf2Reader = PyPDF2.PdfFileReader(pdf2File)\n",
    ">>> pdfWriter = PyPDF2.PdfFileWriter()\n",
    ">>> for pageNum in range(pdf1Reader.numPages):\n",
    "        pageObj = pdf1Reader.getPage(pageNum)\n",
    "        pdfWriter.addPage(pageObj)\n",
    ">>> for pageNum in range(pdf2Reader.numPages):\n",
    "        pageObj = pdf2Reader.getPage(pageNum)\n",
    "        pdfWriter.addPage(pageObj)\n",
    ">>> pdfOutputFile = open('combinedminutes.pdf', 'wb')\n",
    ">>> pdfWriter.write(pdfOutputFile)\n",
    ">>> pdfOutputFile.close()\n",
    ">>> pdf1File.close()\n",
    ">>> pdf2File.close()"
   ]
  },
  {
   "cell_type": "code",
   "execution_count": null,
   "id": "3db23add",
   "metadata": {},
   "outputs": [],
   "source": [
    "import PyPDF2\n",
    ">>> minutesFile = open('Schedule.pdf', 'rb')\n",
    ">>> pdfReader = PyPDF2.PdfFileReader(minutesFile)\n",
    ">>> page = pdfReader.getPage(0)\n",
    "page.rotateClockwise(90)\n",
    "pdfWriter = PyPDF2.PdfFileWriter()\n",
    ">>> pdfWriter.addPage(page)\n",
    ">>> resultPdfFile = open('rotatedPage.pdf', 'wb')\n",
    ">>> pdfWriter.write(resultPdfFile)\n",
    ">>> resultPdfFile.close()\n",
    ">>> minutesFile.close()"
   ]
  },
  {
   "cell_type": "markdown",
   "id": "51d54ec0",
   "metadata": {},
   "source": [
    "# Working with word document"
   ]
  },
  {
   "cell_type": "code",
   "execution_count": null,
   "id": "9bfd6249",
   "metadata": {},
   "outputs": [],
   "source": [
    "pip install python-docx"
   ]
  },
  {
   "cell_type": "code",
   "execution_count": null,
   "id": "cd6457b0",
   "metadata": {},
   "outputs": [],
   "source": [
    "import docx\n",
    ">>> doc = docx.Document('proposal.docx')\n",
    ">>> len(doc.paragraphs)"
   ]
  },
  {
   "cell_type": "code",
   "execution_count": null,
   "id": "d6125b5c",
   "metadata": {},
   "outputs": [],
   "source": [
    "doc.paragraphs[0].text\n",
    "\n"
   ]
  },
  {
   "cell_type": "code",
   "execution_count": null,
   "id": "6628b795",
   "metadata": {},
   "outputs": [],
   "source": [
    "len(doc.paragraphs[1].runs)"
   ]
  },
  {
   "cell_type": "code",
   "execution_count": null,
   "id": "9e9f4d2d",
   "metadata": {},
   "outputs": [],
   "source": [
    "doc.paragraphs[1].runs[0].text"
   ]
  },
  {
   "cell_type": "code",
   "execution_count": null,
   "id": "5fe7dfce",
   "metadata": {},
   "outputs": [],
   "source": [
    "doc.paragraphs[2].runs[1].text"
   ]
  },
  {
   "cell_type": "markdown",
   "id": "0326a309",
   "metadata": {},
   "source": [
    "# writing to word file"
   ]
  },
  {
   "cell_type": "code",
   "execution_count": null,
   "id": "6c4f0b68",
   "metadata": {},
   "outputs": [],
   "source": [
    "import docx\n",
    "doc = docx.Document()\n",
    "doc.add_paragraph('Hello world!')\n",
    "doc.save('helloworld.docx')"
   ]
  },
  {
   "cell_type": "markdown",
   "id": "264a63f7",
   "metadata": {},
   "source": [
    "# adding paragraphs to word file"
   ]
  },
  {
   "cell_type": "code",
   "execution_count": null,
   "id": "38222e79",
   "metadata": {},
   "outputs": [],
   "source": [
    "import docx\n",
    "doc = docx.Document()\n",
    "doc.add_paragraph('Hello world!')\n",
    "paraObj1 = doc.add_paragraph('This is a second paragraph.')\n",
    "paraObj2 = doc.add_paragraph('This is a yet another paragraph.')\n",
    "paraObj1.add_run(' This text is being added to the second paragraph.')\n",
    "doc.save('multipleParagraphs.docx')"
   ]
  },
  {
   "cell_type": "markdown",
   "id": "73bc3f51",
   "metadata": {},
   "source": [
    "# Adding Headings to the word"
   ]
  },
  {
   "cell_type": "code",
   "execution_count": null,
   "id": "8217a9a9",
   "metadata": {},
   "outputs": [],
   "source": [
    "import docx\n",
    "doc = docx.Document()\n",
    "doc = docx.Document()\n",
    "doc.add_heading('Header 0', 0)\n",
    "doc.add_heading('Header 1', 1)\n",
    "doc.add_heading('Header 2', 2)\n",
    "doc.add_heading('Header 3', 3)\n",
    "doc.add_heading('Header 4', 4)\n",
    "doc.save('headings.docx')"
   ]
  },
  {
   "cell_type": "code",
   "execution_count": null,
   "id": "c11a4bde",
   "metadata": {},
   "outputs": [],
   "source": [
    "import docx\n",
    "doc = docx.Document()\n",
    "doc.add_paragraph('This is on the first page!')\n",
    "doc.paragraphs[0].runs[0].add_break(docx.text.WD_BREAK.PAGE)\n",
    "doc.add_paragraph('This is on the second page!')\n",
    "doc.save('twoPage.docx')"
   ]
  },
  {
   "cell_type": "markdown",
   "id": "40fb6d93",
   "metadata": {},
   "source": [
    "# Adding pictures to word"
   ]
  },
  {
   "cell_type": "code",
   "execution_count": 12,
   "id": "0cb51edb",
   "metadata": {},
   "outputs": [],
   "source": [
    "doc.add_picture('college pic.png', width=docx.shared.Inches(1),height=docx.shared.Cm(4))\n",
    "doc.save('picture.docx')"
   ]
  },
  {
   "cell_type": "markdown",
   "id": "7b966b0a",
   "metadata": {},
   "source": [
    "# The csv Module"
   ]
  },
  {
   "cell_type": "code",
   "execution_count": null,
   "id": "f01b3f3c",
   "metadata": {},
   "outputs": [],
   "source": [
    "import csv\n",
    ">>> exampleFile = open('example.csv')\n",
    ">>> exampleReader = csv.reader(exampleFile)\n",
    ">>> exampleData = list(exampleReader)\n",
    ">>> exampleData"
   ]
  },
  {
   "cell_type": "code",
   "execution_count": null,
   "id": "2e7f9ec1",
   "metadata": {},
   "outputs": [],
   "source": [
    "import csv\n",
    ">>> exampleFile = open('example.csv')\n",
    ">>> exampleReader = csv.reader(exampleFile)\n",
    ">>> for row in exampleReader:\n",
    "    print('Row #' + str(exampleReader.line_num) + ' ' + str(row))"
   ]
  },
  {
   "cell_type": "code",
   "execution_count": null,
   "id": "158ef591",
   "metadata": {},
   "outputs": [],
   "source": [
    "import csv\n",
    ">>> outputFile = open('writer.csv', 'w', newline='')\n",
    ">>> outputWriter = csv.writer(outputFile)\n",
    ">>> outputWriter.writerow(['spam', 'eggs', 'bacon', 'ham'])\n",
    "outputWriter.writerow(['Hello, world!', 'eggs', 'bacon', 'ham'])\n",
    "outputWriter.writerow([1, 2, 3.141592, 4])"
   ]
  },
  {
   "cell_type": "code",
   "execution_count": null,
   "id": "f6176a03",
   "metadata": {},
   "outputs": [],
   "source": [
    "outputFile.close()"
   ]
  },
  {
   "cell_type": "code",
   "execution_count": null,
   "id": "28fedafe",
   "metadata": {},
   "outputs": [],
   "source": [
    "import csv\n",
    ">>> csvFile = open('example.tsv', 'w', newline='')\n",
    ">>> csvWriter = csv.writer(csvFile, delimiter='\\t', lineterminator='\\n\\n')\n",
    ">>> csvWriter.writerow(['apples', 'oranges', 'grapes'])\n",
    ">>> csvWriter.writerow(['eggs', 'bacon', 'ham'])\n",
    ">>> csvWriter.writerow(['spam', 'spam', 'spam', 'spam', 'spam', 'spam'])\n",
    ">>> csvFile.close()"
   ]
  },
  {
   "cell_type": "code",
   "execution_count": null,
   "id": "40ed28fb",
   "metadata": {},
   "outputs": [],
   "source": []
  }
 ],
 "metadata": {
  "kernelspec": {
   "display_name": "Python 3",
   "language": "python",
   "name": "python3"
  },
  "language_info": {
   "codemirror_mode": {
    "name": "ipython",
    "version": 3
   },
   "file_extension": ".py",
   "mimetype": "text/x-python",
   "name": "python",
   "nbconvert_exporter": "python",
   "pygments_lexer": "ipython3",
   "version": "3.8.8"
  }
 },
 "nbformat": 4,
 "nbformat_minor": 5
}
