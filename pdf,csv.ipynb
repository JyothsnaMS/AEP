{
 "cells": [
  {
   "cell_type": "markdown",
   "id": "a6221880",
   "metadata": {},
   "source": [
    "Encryption and Decryption of pdf"
   ]
  },
  {
   "cell_type": "code",
   "execution_count": 1,
   "id": "7b1b3976",
   "metadata": {
    "scrolled": true
   },
   "outputs": [
    {
     "name": "stdout",
     "output_type": "stream",
     "text": [
      "Collecting PyPDF2\n",
      "  Downloading PyPDF2-1.26.0.tar.gz (77 kB)\n",
      "Building wheels for collected packages: PyPDF2\n",
      "  Building wheel for PyPDF2 (setup.py): started\n",
      "  Building wheel for PyPDF2 (setup.py): finished with status 'done'\n",
      "  Created wheel for PyPDF2: filename=PyPDF2-1.26.0-py3-none-any.whl size=61085 sha256=387331aef09b4006c721b082ea8540891e8ccc6e711388abd47a30238da985e3\n",
      "  Stored in directory: c:\\users\\student\\appdata\\local\\pip\\cache\\wheels\\b1\\1a\\8f\\a4c34be976825a2f7948d0fa40907598d69834f8ab5889de11\n",
      "Successfully built PyPDF2\n",
      "Installing collected packages: PyPDF2\n",
      "Successfully installed PyPDF2-1.26.0\n",
      "Note: you may need to restart the kernel to use updated packages.\n"
     ]
    }
   ],
   "source": [
    "pip install PyPDF2"
   ]
  },
  {
   "cell_type": "code",
   "execution_count": 47,
   "id": "2ca232f2",
   "metadata": {},
   "outputs": [],
   "source": [
    "import PyPDF2"
   ]
  },
  {
   "cell_type": "code",
   "execution_count": 48,
   "id": "474d7cfc",
   "metadata": {},
   "outputs": [],
   "source": [
    "pfh = open('mypdf.pdf', 'rb')"
   ]
  },
  {
   "cell_type": "code",
   "execution_count": 49,
   "id": "21aa1441",
   "metadata": {},
   "outputs": [],
   "source": [
    "pdf_reader=PyPDF2.PdfFileReader(pfh) #bridge between user and binary"
   ]
  },
  {
   "cell_type": "code",
   "execution_count": 50,
   "id": "90ff23a9",
   "metadata": {},
   "outputs": [
    {
     "data": {
      "text/plain": [
       "3"
      ]
     },
     "execution_count": 50,
     "metadata": {},
     "output_type": "execute_result"
    }
   ],
   "source": [
    "pdf_reader.numPages"
   ]
  },
  {
   "cell_type": "code",
   "execution_count": 51,
   "id": "4ba0adcd",
   "metadata": {},
   "outputs": [
    {
     "data": {
      "text/plain": [
       "{'/Type': '/Page',\n",
       " '/Parent': {'/Type': '/Pages',\n",
       "  '/Count': 3,\n",
       "  '/Kids': [IndirectObject(3, 0),\n",
       "   IndirectObject(11, 0),\n",
       "   IndirectObject(19, 0)]},\n",
       " '/Resources': {'/Font': {'/F1': {'/Type': '/Font',\n",
       "    '/Subtype': '/TrueType',\n",
       "    '/Name': '/F1',\n",
       "    '/BaseFont': '/BCDEEE+Calibri',\n",
       "    '/Encoding': '/WinAnsiEncoding',\n",
       "    '/FontDescriptor': {'/Type': '/FontDescriptor',\n",
       "     '/FontName': '/BCDEEE+Calibri',\n",
       "     '/Flags': 32,\n",
       "     '/ItalicAngle': 0,\n",
       "     '/Ascent': 750,\n",
       "     '/Descent': -250,\n",
       "     '/CapHeight': 750,\n",
       "     '/AvgWidth': 521,\n",
       "     '/MaxWidth': 1743,\n",
       "     '/FontWeight': 400,\n",
       "     '/XHeight': 250,\n",
       "     '/StemV': 52,\n",
       "     '/FontBBox': [-503, -250, 1240, 750],\n",
       "     '/FontFile2': {'/Filter': '/FlateDecode', '/Length1': 107468}},\n",
       "    '/FirstChar': 32,\n",
       "    '/LastChar': 121,\n",
       "    '/Widths': [226,\n",
       "     0,\n",
       "     0,\n",
       "     0,\n",
       "     0,\n",
       "     0,\n",
       "     0,\n",
       "     0,\n",
       "     0,\n",
       "     0,\n",
       "     0,\n",
       "     0,\n",
       "     250,\n",
       "     0,\n",
       "     0,\n",
       "     0,\n",
       "     0,\n",
       "     0,\n",
       "     0,\n",
       "     0,\n",
       "     0,\n",
       "     0,\n",
       "     0,\n",
       "     0,\n",
       "     0,\n",
       "     0,\n",
       "     0,\n",
       "     0,\n",
       "     0,\n",
       "     0,\n",
       "     0,\n",
       "     0,\n",
       "     0,\n",
       "     579,\n",
       "     0,\n",
       "     533,\n",
       "     615,\n",
       "     488,\n",
       "     0,\n",
       "     0,\n",
       "     0,\n",
       "     0,\n",
       "     0,\n",
       "     0,\n",
       "     420,\n",
       "     855,\n",
       "     0,\n",
       "     0,\n",
       "     517,\n",
       "     0,\n",
       "     0,\n",
       "     459,\n",
       "     0,\n",
       "     0,\n",
       "     567,\n",
       "     0,\n",
       "     0,\n",
       "     0,\n",
       "     0,\n",
       "     0,\n",
       "     0,\n",
       "     0,\n",
       "     0,\n",
       "     0,\n",
       "     0,\n",
       "     479,\n",
       "     525,\n",
       "     423,\n",
       "     525,\n",
       "     498,\n",
       "     305,\n",
       "     471,\n",
       "     525,\n",
       "     230,\n",
       "     0,\n",
       "     455,\n",
       "     230,\n",
       "     799,\n",
       "     525,\n",
       "     527,\n",
       "     525,\n",
       "     0,\n",
       "     349,\n",
       "     391,\n",
       "     335,\n",
       "     525,\n",
       "     452,\n",
       "     0,\n",
       "     0,\n",
       "     453]}},\n",
       "  '/ExtGState': {'/GS7': {'/Type': '/ExtGState', '/BM': '/Normal', '/ca': 1},\n",
       "   '/GS8': {'/Type': '/ExtGState', '/BM': '/Normal', '/CA': 1}},\n",
       "  '/XObject': {'/Image9': {'/Type': '/XObject',\n",
       "    '/Subtype': '/Image',\n",
       "    '/Width': 720,\n",
       "    '/Height': 720,\n",
       "    '/ColorSpace': '/DeviceRGB',\n",
       "    '/BitsPerComponent': 8,\n",
       "    '/Filter': '/DCTDecode',\n",
       "    '/Interpolate': <PyPDF2.generic.BooleanObject at 0x144529a4b20>,\n",
       "    '/SMask': {'/Type': '/XObject',\n",
       "     '/Subtype': '/Image',\n",
       "     '/Width': 720,\n",
       "     '/Height': 720,\n",
       "     '/ColorSpace': '/DeviceGray',\n",
       "     '/Matte': [0, 0, 0],\n",
       "     '/BitsPerComponent': 8,\n",
       "     '/Interpolate': <PyPDF2.generic.BooleanObject at 0x144529a4bb0>,\n",
       "     '/Filter': '/FlateDecode'}}},\n",
       "  '/ProcSet': ['/PDF', '/Text', '/ImageB', '/ImageC', '/ImageI']},\n",
       " '/MediaBox': [0, 0, 612, 792],\n",
       " '/Contents': {'/Filter': '/FlateDecode'},\n",
       " '/Group': {'/Type': '/Group', '/S': '/Transparency', '/CS': '/DeviceRGB'},\n",
       " '/Tabs': '/S',\n",
       " '/StructParents': 0}"
      ]
     },
     "execution_count": 51,
     "metadata": {},
     "output_type": "execute_result"
    }
   ],
   "source": [
    "page1=pdf_reader.getPage(0)\n",
    "page1"
   ]
  },
  {
   "cell_type": "code",
   "execution_count": 52,
   "id": "14e39d97",
   "metadata": {},
   "outputs": [
    {
     "data": {
      "text/plain": [
       "'Vidy\\navardhaka College of \\nEngineering, Mysuru\\n \\nDepartment of Compu\\nter Science and Eng\\nineering \\n \\nAbility En\\nhance Program \\n \\nMa\\nchine Learnin\\ng using \\nPython\\n \\n \\n \\n \\n \\n \\n \\n \\n \\n \\n \\n \\n \\n \\n \\n'"
      ]
     },
     "execution_count": 52,
     "metadata": {},
     "output_type": "execute_result"
    }
   ],
   "source": [
    "page1.extractText()"
   ]
  },
  {
   "cell_type": "code",
   "execution_count": 53,
   "id": "df96974f",
   "metadata": {},
   "outputs": [
    {
     "data": {
      "text/plain": [
       "{'/Type': '/Page',\n",
       " '/Parent': {'/Type': '/Pages',\n",
       "  '/Count': 3,\n",
       "  '/Kids': [IndirectObject(3, 0),\n",
       "   IndirectObject(11, 0),\n",
       "   IndirectObject(19, 0)]},\n",
       " '/Resources': {'/ExtGState': {'/GS7': {'/Type': '/ExtGState',\n",
       "    '/BM': '/Normal',\n",
       "    '/ca': 1},\n",
       "   '/GS8': {'/Type': '/ExtGState', '/BM': '/Normal', '/CA': 1}},\n",
       "  '/Font': {'/F2': {'/Type': '/Font',\n",
       "    '/Subtype': '/TrueType',\n",
       "    '/Name': '/F2',\n",
       "    '/BaseFont': '/Arial-BoldMT',\n",
       "    '/Encoding': '/WinAnsiEncoding',\n",
       "    '/FontDescriptor': {'/Type': '/FontDescriptor',\n",
       "     '/FontName': '/Arial-BoldMT',\n",
       "     '/Flags': 32,\n",
       "     '/ItalicAngle': 0,\n",
       "     '/Ascent': 905,\n",
       "     '/Descent': -210,\n",
       "     '/CapHeight': 728,\n",
       "     '/AvgWidth': 479,\n",
       "     '/MaxWidth': 2628,\n",
       "     '/FontWeight': 700,\n",
       "     '/XHeight': 250,\n",
       "     '/Leading': 33,\n",
       "     '/StemV': 47,\n",
       "     '/FontBBox': [-628, -210, 2000, 728]},\n",
       "    '/FirstChar': 32,\n",
       "    '/LastChar': 86,\n",
       "    '/Widths': [278,\n",
       "     0,\n",
       "     0,\n",
       "     0,\n",
       "     0,\n",
       "     0,\n",
       "     722,\n",
       "     0,\n",
       "     0,\n",
       "     0,\n",
       "     0,\n",
       "     0,\n",
       "     0,\n",
       "     0,\n",
       "     0,\n",
       "     0,\n",
       "     0,\n",
       "     0,\n",
       "     0,\n",
       "     0,\n",
       "     0,\n",
       "     0,\n",
       "     0,\n",
       "     0,\n",
       "     0,\n",
       "     0,\n",
       "     0,\n",
       "     0,\n",
       "     0,\n",
       "     0,\n",
       "     0,\n",
       "     0,\n",
       "     0,\n",
       "     722,\n",
       "     0,\n",
       "     722,\n",
       "     722,\n",
       "     667,\n",
       "     611,\n",
       "     778,\n",
       "     722,\n",
       "     278,\n",
       "     0,\n",
       "     0,\n",
       "     0,\n",
       "     833,\n",
       "     722,\n",
       "     778,\n",
       "     667,\n",
       "     0,\n",
       "     722,\n",
       "     667,\n",
       "     611,\n",
       "     722,\n",
       "     667]},\n",
       "   '/F3': {'/Type': '/Font',\n",
       "    '/Subtype': '/TrueType',\n",
       "    '/Name': '/F3',\n",
       "    '/BaseFont': '/BCDFEE+SegoeUI',\n",
       "    '/Encoding': '/WinAnsiEncoding',\n",
       "    '/FontDescriptor': {'/Type': '/FontDescriptor',\n",
       "     '/FontName': '/BCDFEE+SegoeUI',\n",
       "     '/Flags': 32,\n",
       "     '/ItalicAngle': 0,\n",
       "     '/Ascent': 1079,\n",
       "     '/Descent': -210,\n",
       "     '/CapHeight': 728,\n",
       "     '/AvgWidth': 539,\n",
       "     '/MaxWidth': 2431,\n",
       "     '/FontWeight': 400,\n",
       "     '/XHeight': 250,\n",
       "     '/StemV': 53,\n",
       "     '/FontBBox': [-432, -210, 1999, 728],\n",
       "     '/FontFile2': {'/Filter': '/FlateDecode', '/Length1': 69224}},\n",
       "    '/FirstChar': 32,\n",
       "    '/LastChar': 121,\n",
       "    '/Widths': [274,\n",
       "     0,\n",
       "     0,\n",
       "     0,\n",
       "     0,\n",
       "     0,\n",
       "     800,\n",
       "     0,\n",
       "     0,\n",
       "     0,\n",
       "     0,\n",
       "     0,\n",
       "     217,\n",
       "     400,\n",
       "     217,\n",
       "     0,\n",
       "     0,\n",
       "     539,\n",
       "     539,\n",
       "     539,\n",
       "     539,\n",
       "     0,\n",
       "     0,\n",
       "     539,\n",
       "     0,\n",
       "     539,\n",
       "     0,\n",
       "     0,\n",
       "     0,\n",
       "     0,\n",
       "     0,\n",
       "     0,\n",
       "     0,\n",
       "     0,\n",
       "     573,\n",
       "     619,\n",
       "     701,\n",
       "     506,\n",
       "     488,\n",
       "     0,\n",
       "     0,\n",
       "     266,\n",
       "     0,\n",
       "     0,\n",
       "     0,\n",
       "     0,\n",
       "     748,\n",
       "     0,\n",
       "     560,\n",
       "     0,\n",
       "     0,\n",
       "     531,\n",
       "     524,\n",
       "     0,\n",
       "     0,\n",
       "     934,\n",
       "     0,\n",
       "     0,\n",
       "     0,\n",
       "     0,\n",
       "     0,\n",
       "     0,\n",
       "     0,\n",
       "     0,\n",
       "     0,\n",
       "     509,\n",
       "     588,\n",
       "     462,\n",
       "     589,\n",
       "     523,\n",
       "     313,\n",
       "     589,\n",
       "     566,\n",
       "     242,\n",
       "     0,\n",
       "     497,\n",
       "     242,\n",
       "     861,\n",
       "     566,\n",
       "     586,\n",
       "     588,\n",
       "     589,\n",
       "     348,\n",
       "     424,\n",
       "     339,\n",
       "     566,\n",
       "     479,\n",
       "     723,\n",
       "     459,\n",
       "     484]},\n",
       "   '/F4': {'/Type': '/Font',\n",
       "    '/Subtype': '/TrueType',\n",
       "    '/Name': '/F4',\n",
       "    '/BaseFont': '/ArialMT',\n",
       "    '/Encoding': '/WinAnsiEncoding',\n",
       "    '/FontDescriptor': {'/Type': '/FontDescriptor',\n",
       "     '/FontName': '/ArialMT',\n",
       "     '/Flags': 32,\n",
       "     '/ItalicAngle': 0,\n",
       "     '/Ascent': 905,\n",
       "     '/Descent': -210,\n",
       "     '/CapHeight': 728,\n",
       "     '/AvgWidth': 441,\n",
       "     '/MaxWidth': 2665,\n",
       "     '/FontWeight': 400,\n",
       "     '/XHeight': 250,\n",
       "     '/Leading': 33,\n",
       "     '/StemV': 44,\n",
       "     '/FontBBox': [-665, -210, 2000, 728]},\n",
       "    '/FirstChar': 32,\n",
       "    '/LastChar': 32,\n",
       "    '/Widths': [278]},\n",
       "   '/F1': {'/Type': '/Font',\n",
       "    '/Subtype': '/TrueType',\n",
       "    '/Name': '/F1',\n",
       "    '/BaseFont': '/BCDEEE+Calibri',\n",
       "    '/Encoding': '/WinAnsiEncoding',\n",
       "    '/FontDescriptor': {'/Type': '/FontDescriptor',\n",
       "     '/FontName': '/BCDEEE+Calibri',\n",
       "     '/Flags': 32,\n",
       "     '/ItalicAngle': 0,\n",
       "     '/Ascent': 750,\n",
       "     '/Descent': -250,\n",
       "     '/CapHeight': 750,\n",
       "     '/AvgWidth': 521,\n",
       "     '/MaxWidth': 1743,\n",
       "     '/FontWeight': 400,\n",
       "     '/XHeight': 250,\n",
       "     '/StemV': 52,\n",
       "     '/FontBBox': [-503, -250, 1240, 750],\n",
       "     '/FontFile2': {'/Filter': '/FlateDecode', '/Length1': 107468}},\n",
       "    '/FirstChar': 32,\n",
       "    '/LastChar': 121,\n",
       "    '/Widths': [226,\n",
       "     0,\n",
       "     0,\n",
       "     0,\n",
       "     0,\n",
       "     0,\n",
       "     0,\n",
       "     0,\n",
       "     0,\n",
       "     0,\n",
       "     0,\n",
       "     0,\n",
       "     250,\n",
       "     0,\n",
       "     0,\n",
       "     0,\n",
       "     0,\n",
       "     0,\n",
       "     0,\n",
       "     0,\n",
       "     0,\n",
       "     0,\n",
       "     0,\n",
       "     0,\n",
       "     0,\n",
       "     0,\n",
       "     0,\n",
       "     0,\n",
       "     0,\n",
       "     0,\n",
       "     0,\n",
       "     0,\n",
       "     0,\n",
       "     579,\n",
       "     0,\n",
       "     533,\n",
       "     615,\n",
       "     488,\n",
       "     0,\n",
       "     0,\n",
       "     0,\n",
       "     0,\n",
       "     0,\n",
       "     0,\n",
       "     420,\n",
       "     855,\n",
       "     0,\n",
       "     0,\n",
       "     517,\n",
       "     0,\n",
       "     0,\n",
       "     459,\n",
       "     0,\n",
       "     0,\n",
       "     567,\n",
       "     0,\n",
       "     0,\n",
       "     0,\n",
       "     0,\n",
       "     0,\n",
       "     0,\n",
       "     0,\n",
       "     0,\n",
       "     0,\n",
       "     0,\n",
       "     479,\n",
       "     525,\n",
       "     423,\n",
       "     525,\n",
       "     498,\n",
       "     305,\n",
       "     471,\n",
       "     525,\n",
       "     230,\n",
       "     0,\n",
       "     455,\n",
       "     230,\n",
       "     799,\n",
       "     525,\n",
       "     527,\n",
       "     525,\n",
       "     0,\n",
       "     349,\n",
       "     391,\n",
       "     335,\n",
       "     525,\n",
       "     452,\n",
       "     0,\n",
       "     0,\n",
       "     453]}},\n",
       "  '/ProcSet': ['/PDF', '/Text', '/ImageB', '/ImageC', '/ImageI']},\n",
       " '/MediaBox': [0, 0, 612, 792],\n",
       " '/Contents': {'/Filter': '/FlateDecode'},\n",
       " '/Group': {'/Type': '/Group', '/S': '/Transparency', '/CS': '/DeviceRGB'},\n",
       " '/Tabs': '/S',\n",
       " '/StructParents': 1}"
      ]
     },
     "execution_count": 53,
     "metadata": {},
     "output_type": "execute_result"
    }
   ],
   "source": [
    "page2=pdf_reader.getPage(1)\n",
    "page2"
   ]
  },
  {
   "cell_type": "code",
   "execution_count": 54,
   "id": "d3ec1aa6",
   "metadata": {},
   "outputs": [
    {
     "name": "stdout",
     "output_type": "stream",
     "text": [
      "VISION\n",
      " \n",
      "The Department of Computer Science and Engineering shall create professionally \n",
      "competent and socially responsible engineers capable of working in global environment.\n",
      " \n",
      "MISSION\n",
      " \n",
      "1.\n",
      " \n",
      "Promote best practices in teaching\n",
      "-\n",
      "learning, with dedicated staff and supportive \n",
      "i\n",
      "nfrastructure to create technically competent engineers.\n",
      " \n",
      "2.\n",
      " \n",
      "Inculcate ethical and cultural values, communication and Entrepreneurial skills.\n",
      " \n",
      "3.\n",
      " \n",
      "Provide exposure to tools and technologies necessary to pursue higher education \n",
      "and research.\n",
      " \n",
      "4.\n",
      " \n",
      "Improve Industry\n",
      "-\n",
      "Institu\n",
      "te relationship for mutual benefit.\n",
      " \n",
      " \n",
      " \n",
      " \n",
      " \n",
      " \n",
      " \n",
      " \n",
      " \n",
      " \n",
      " \n",
      " \n",
      " \n",
      " \n",
      " \n",
      " \n",
      " \n",
      " \n",
      " \n",
      " \n",
      "\n"
     ]
    }
   ],
   "source": [
    "print(page2.extractText())"
   ]
  },
  {
   "cell_type": "code",
   "execution_count": 55,
   "id": "80cb1b3b",
   "metadata": {},
   "outputs": [
    {
     "name": "stdout",
     "output_type": "stream",
     "text": [
      " \n",
      " \n",
      "THE DEPARTMENT OF COMPUTER SCIENCE & \n",
      "ENGINEERING\n",
      " \n",
      "IS FOR STUDENTS...\n",
      " \n",
      "who are innovative thinkers and\n",
      " \n",
      " \n",
      "for those who want to master the world of technology. \n",
      "Students should have strong mathematical and analytical skills t\n",
      "o understand how \n",
      "digital technologies can be used as drivers of innovation. This course provides a cutting\n",
      "-\n",
      "edge exploration of programming, mathematics, and analytics to create out\n",
      "-\n",
      "of\n",
      "-\n",
      "the\n",
      "-\n",
      "box \n",
      "designs with digital technologies necessary to drive innovation \n",
      "across borders and \n",
      "sectors.\n",
      " \n",
      "TO BECOME...\n",
      " \n",
      "\n",
      " \n",
      "a cybersecurity specialist\n",
      " \n",
      "\n",
      " \n",
      "a blockchain developer\n",
      " \n",
      "\n",
      " \n",
      "a data scientist\n",
      " \n",
      "\n",
      " \n",
      "an augmented reality developer\n",
      " \n",
      "Nothing is exciting in these times as the field of Computer Science. Being close to \n",
      "\n",
      "ght students are eager to pursue their graduation \n",
      "courses in this field. Ever since its inception in 1997, the Department has been a \n",
      "pioneering academic center for under graduation and post\n",
      "-\n",
      "graduation in the areas of \n",
      "Computer Science Engineering. It has as\n",
      "siduously pursued its mission of carrying out \n",
      "leading edge facilities in both foundational and Industry oriented problems.\n",
      " \n",
      "The department is well equipped with good infrastructure such as latest computers, \n",
      "\n",
      "ction & Wi\n",
      "-\n",
      "Fi Internet connectivity \n",
      "and well qualified faculty members.\n",
      " \n",
      "The academic programs of the Department are highly innovative and keenly sought \n",
      "after. The Department has trained more than a thousand engineers who have \n",
      "distinguished themselves as leading academicians, industry professionals, and \n",
      "entrepreneurs in several\n",
      " \n",
      "universities and industries in India and abroad.\n",
      " \n",
      " \n",
      " \n",
      "\n"
     ]
    }
   ],
   "source": [
    "page3=pdf_reader.getPage(2)\n",
    "page3\n",
    "print(page3.extractText())"
   ]
  },
  {
   "cell_type": "code",
   "execution_count": 56,
   "id": "8544c357",
   "metadata": {},
   "outputs": [],
   "source": [
    "pfh.close()"
   ]
  },
  {
   "cell_type": "code",
   "execution_count": 57,
   "id": "dc42aac7",
   "metadata": {},
   "outputs": [],
   "source": [
    "prfh=open('mypdf.pdf', 'rb')\n",
    "pdfread=PyPDF2.PdfFileReader(prfh)"
   ]
  },
  {
   "cell_type": "code",
   "execution_count": 58,
   "id": "0d7c8fb5",
   "metadata": {},
   "outputs": [],
   "source": [
    "pdfWrite=PyPDF2.PdfFileWriter()"
   ]
  },
  {
   "cell_type": "code",
   "execution_count": 59,
   "id": "ee6a00ef",
   "metadata": {},
   "outputs": [],
   "source": [
    "for page in range(pdfread.numPages):\n",
    "    pdfWrite.addPage(pdfread.getPage(page))"
   ]
  },
  {
   "cell_type": "code",
   "execution_count": 60,
   "id": "9e03057d",
   "metadata": {},
   "outputs": [],
   "source": [
    "pdfWrite.encrypt('passisword')"
   ]
  },
  {
   "cell_type": "code",
   "execution_count": 62,
   "id": "93be5160",
   "metadata": {},
   "outputs": [],
   "source": [
    "result=open('result1.pdf', 'wb')"
   ]
  },
  {
   "cell_type": "code",
   "execution_count": 63,
   "id": "4706c0c3",
   "metadata": {},
   "outputs": [],
   "source": [
    "pdfWrite.write(result)"
   ]
  },
  {
   "cell_type": "code",
   "execution_count": 64,
   "id": "9580e7ac",
   "metadata": {},
   "outputs": [],
   "source": [
    "result.close()"
   ]
  },
  {
   "cell_type": "code",
   "execution_count": 65,
   "id": "e521f3cf",
   "metadata": {},
   "outputs": [],
   "source": [
    "prfh.close()"
   ]
  },
  {
   "cell_type": "markdown",
   "id": "5a6a96af",
   "metadata": {},
   "source": [
    "# CSV FIles"
   ]
  },
  {
   "cell_type": "code",
   "execution_count": 1,
   "id": "54f8b524",
   "metadata": {},
   "outputs": [],
   "source": [
    "import csv"
   ]
  },
  {
   "cell_type": "code",
   "execution_count": 2,
   "id": "c48c8856",
   "metadata": {},
   "outputs": [
    {
     "ename": "FileNotFoundError",
     "evalue": "[Errno 2] No such file or directory: 'book1.csv'",
     "output_type": "error",
     "traceback": [
      "\u001b[1;31m---------------------------------------------------------------------------\u001b[0m",
      "\u001b[1;31mFileNotFoundError\u001b[0m                         Traceback (most recent call last)",
      "\u001b[1;32m<ipython-input-2-43ffb2d2b110>\u001b[0m in \u001b[0;36m<module>\u001b[1;34m\u001b[0m\n\u001b[1;32m----> 1\u001b[1;33m \u001b[0mfh\u001b[0m\u001b[1;33m=\u001b[0m\u001b[0mopen\u001b[0m\u001b[1;33m(\u001b[0m\u001b[1;34m'book1.csv'\u001b[0m\u001b[1;33m)\u001b[0m\u001b[1;33m\u001b[0m\u001b[1;33m\u001b[0m\u001b[0m\n\u001b[0m",
      "\u001b[1;31mFileNotFoundError\u001b[0m: [Errno 2] No such file or directory: 'book1.csv'"
     ]
    }
   ],
   "source": [
    "fh=open('book1.csv')"
   ]
  },
  {
   "cell_type": "code",
   "execution_count": null,
   "id": "9f670abd",
   "metadata": {},
   "outputs": [],
   "source": [
    "csvread=csv.reader(fh)"
   ]
  },
  {
   "cell_type": "code",
   "execution_count": 3,
   "id": "246b5c3b",
   "metadata": {},
   "outputs": [
    {
     "ename": "NameError",
     "evalue": "name 'csvread' is not defined",
     "output_type": "error",
     "traceback": [
      "\u001b[1;31m---------------------------------------------------------------------------\u001b[0m",
      "\u001b[1;31mNameError\u001b[0m                                 Traceback (most recent call last)",
      "\u001b[1;32m<ipython-input-3-05dbd976635d>\u001b[0m in \u001b[0;36m<module>\u001b[1;34m\u001b[0m\n\u001b[1;32m----> 1\u001b[1;33m \u001b[0mcsvread\u001b[0m\u001b[1;33m\u001b[0m\u001b[1;33m\u001b[0m\u001b[0m\n\u001b[0m",
      "\u001b[1;31mNameError\u001b[0m: name 'csvread' is not defined"
     ]
    }
   ],
   "source": [
    "csvread"
   ]
  },
  {
   "cell_type": "code",
   "execution_count": 4,
   "id": "ad0c4067",
   "metadata": {},
   "outputs": [
    {
     "ename": "NameError",
     "evalue": "name 'csvread' is not defined",
     "output_type": "error",
     "traceback": [
      "\u001b[1;31m---------------------------------------------------------------------------\u001b[0m",
      "\u001b[1;31mNameError\u001b[0m                                 Traceback (most recent call last)",
      "\u001b[1;32m<ipython-input-4-3dc6a999e0bc>\u001b[0m in \u001b[0;36m<module>\u001b[1;34m\u001b[0m\n\u001b[1;32m----> 1\u001b[1;33m \u001b[0mcontent\u001b[0m\u001b[1;33m=\u001b[0m\u001b[0mlist\u001b[0m\u001b[1;33m(\u001b[0m\u001b[0mcsvread\u001b[0m\u001b[1;33m)\u001b[0m\u001b[1;33m\u001b[0m\u001b[1;33m\u001b[0m\u001b[0m\n\u001b[0m\u001b[0;32m      2\u001b[0m \u001b[0mprint\u001b[0m\u001b[1;33m(\u001b[0m\u001b[0mcontent\u001b[0m\u001b[1;33m)\u001b[0m\u001b[1;33m\u001b[0m\u001b[1;33m\u001b[0m\u001b[0m\n",
      "\u001b[1;31mNameError\u001b[0m: name 'csvread' is not defined"
     ]
    }
   ],
   "source": [
    "content=list(csvread)\n",
    "print(content)"
   ]
  },
  {
   "cell_type": "code",
   "execution_count": 9,
   "id": "d9fcdb75",
   "metadata": {},
   "outputs": [
    {
     "data": {
      "text/plain": [
       "[['usn', 'name', 'marks'],\n",
       " ['avx123', 'A', '0'],\n",
       " ['adf159', 'B', '20'],\n",
       " ['456ghj', 'C', '30'],\n",
       " ['fgd753', 'D', '40'],\n",
       " ['hag789', 'E', '50']]"
      ]
     },
     "execution_count": 9,
     "metadata": {},
     "output_type": "execute_result"
    }
   ],
   "source": [
    "content"
   ]
  },
  {
   "cell_type": "code",
   "execution_count": 10,
   "id": "10813da8",
   "metadata": {},
   "outputs": [
    {
     "data": {
      "text/plain": [
       "'0'"
      ]
     },
     "execution_count": 10,
     "metadata": {},
     "output_type": "execute_result"
    }
   ],
   "source": [
    "content[1][2]"
   ]
  },
  {
   "cell_type": "code",
   "execution_count": null,
   "id": "ea4ddf18",
   "metadata": {},
   "outputs": [],
   "source": [
    "lines=len(content)"
   ]
  },
  {
   "cell_type": "code",
   "execution_count": 11,
   "id": "cc3478fd",
   "metadata": {},
   "outputs": [
    {
     "data": {
      "text/plain": [
       "['avx123', 'A', '0']"
      ]
     },
     "execution_count": 11,
     "metadata": {},
     "output_type": "execute_result"
    }
   ],
   "source": [
    "content[1]"
   ]
  },
  {
   "cell_type": "code",
   "execution_count": 12,
   "id": "71d6b9d0",
   "metadata": {},
   "outputs": [],
   "source": [
    "fhw=open('newscv.csv', 'w', newline='')"
   ]
  },
  {
   "cell_type": "code",
   "execution_count": 13,
   "id": "aca71ebb",
   "metadata": {},
   "outputs": [],
   "source": [
    "filewrite=csv.writer(fhw)"
   ]
  },
  {
   "cell_type": "code",
   "execution_count": 14,
   "id": "5438defd",
   "metadata": {},
   "outputs": [
    {
     "data": {
      "text/plain": [
       "21"
      ]
     },
     "execution_count": 14,
     "metadata": {},
     "output_type": "execute_result"
    }
   ],
   "source": [
    "filewrite.writerow(['sl', 'item', 'units', 'price'])"
   ]
  },
  {
   "cell_type": "code",
   "execution_count": 15,
   "id": "41939b64",
   "metadata": {},
   "outputs": [
    {
     "data": {
      "text/plain": [
       "21"
      ]
     },
     "execution_count": 15,
     "metadata": {},
     "output_type": "execute_result"
    }
   ],
   "source": [
    "filewrite.writerow(['1', 'apple', '1Kilo', 10000])"
   ]
  },
  {
   "cell_type": "code",
   "execution_count": 16,
   "id": "7d6855f1",
   "metadata": {},
   "outputs": [
    {
     "name": "stdout",
     "output_type": "stream",
     "text": [
      "Enter number of items1\n",
      "Enter sl234\n",
      "Enter item486\n",
      "Enter units48\n",
      "Enter price545\n"
     ]
    }
   ],
   "source": [
    "n=int(input(\"Enter number of items\"))\n",
    "i=0\n",
    "while(i<n):\n",
    "    sl=input(\"Enter sl\")\n",
    "    item=input(\"Enter item\")\n",
    "    units=input(\"Enter units\")\n",
    "    price=input(\"Enter price\")\n",
    "    filewrite.writerow([sl, item, units, price])\n",
    "    i=i+1;"
   ]
  },
  {
   "cell_type": "code",
   "execution_count": 17,
   "id": "b3148f54",
   "metadata": {},
   "outputs": [],
   "source": [
    "fhw.close()"
   ]
  },
  {
   "cell_type": "code",
   "execution_count": 104,
   "id": "426fba8a",
   "metadata": {},
   "outputs": [],
   "source": []
  },
  {
   "cell_type": "code",
   "execution_count": null,
   "id": "bab74586",
   "metadata": {},
   "outputs": [],
   "source": []
  }
 ],
 "metadata": {
  "kernelspec": {
   "display_name": "Python 3",
   "language": "python",
   "name": "python3"
  },
  "language_info": {
   "codemirror_mode": {
    "name": "ipython",
    "version": 3
   },
   "file_extension": ".py",
   "mimetype": "text/x-python",
   "name": "python",
   "nbconvert_exporter": "python",
   "pygments_lexer": "ipython3",
   "version": "3.8.8"
  }
 },
 "nbformat": 4,
 "nbformat_minor": 5
}
