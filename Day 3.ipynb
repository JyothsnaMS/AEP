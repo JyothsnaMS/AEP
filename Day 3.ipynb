{
 "cells": [
  {
   "cell_type": "code",
   "execution_count": 14,
   "id": "63d44a0a",
   "metadata": {},
   "outputs": [
    {
     "data": {
      "text/plain": [
       "\"Itâ€™s up to all of us to create the future we wantâ€”and that involves changes big and small, in many areas of our lives.\\n Change can feel overwhelming, so weâ€™re here to guide you in amplifying your individual choices into meaningful collective impact. \\nThe first step is often the hardest, but connecting with a global movement of people who are determined to change the world fuels our action with joy and purpose.\\nWeâ€™re a global alliance of people who care deeply about protecting forests, fighting climate change, and improving the working conditions and livelihoods of rural \\npeople who produce the things we consume on a daily basis.\\nThe environment gives us countless benefits that we can't repay our entire life. As they are connected with the forest, trees, animals, water, and air. \\nThe forest and trees filter the air and absorb harmful gases. Plants purify water, reduce the chances of flood maintain natural balance and many others.\""
      ]
     },
     "execution_count": 14,
     "metadata": {},
     "output_type": "execute_result"
    }
   ],
   "source": [
    "fh = open('DEMO.txt', 'r')\n",
    "fh.read()"
   ]
  },
  {
   "cell_type": "code",
   "execution_count": 8,
   "id": "08bfe263",
   "metadata": {},
   "outputs": [],
   "source": [
    "fh = open('new.txt', 'w')"
   ]
  },
  {
   "cell_type": "code",
   "execution_count": 11,
   "id": "e30c705f",
   "metadata": {},
   "outputs": [
    {
     "data": {
      "text/plain": [
       "''"
      ]
     },
     "execution_count": 11,
     "metadata": {},
     "output_type": "execute_result"
    }
   ],
   "source": [
    "fh.read()"
   ]
  },
  {
   "cell_type": "code",
   "execution_count": 12,
   "id": "8ecfa5e8",
   "metadata": {},
   "outputs": [
    {
     "name": "stdout",
     "output_type": "stream",
     "text": [
      "<built-in method read of _io.TextIOWrapper object at 0x0000020385E1B110>\n"
     ]
    }
   ],
   "source": [
    "print(fh.read)"
   ]
  },
  {
   "cell_type": "code",
   "execution_count": 15,
   "id": "6c7c370b",
   "metadata": {},
   "outputs": [
    {
     "data": {
      "text/plain": [
       "0"
      ]
     },
     "execution_count": 15,
     "metadata": {},
     "output_type": "execute_result"
    }
   ],
   "source": [
    "fh.seek(0)"
   ]
  },
  {
   "cell_type": "code",
   "execution_count": 16,
   "id": "fb35de90",
   "metadata": {},
   "outputs": [
    {
     "data": {
      "text/plain": [
       "\"Itâ€™s up to all of us to create the future we wantâ€”and that involves changes big and small, in many areas of our lives.\\n Change can feel overwhelming, so weâ€™re here to guide you in amplifying your individual choices into meaningful collective impact. \\nThe first step is often the hardest, but connecting with a global movement of people who are determined to change the world fuels our action with joy and purpose.\\nWeâ€™re a global alliance of people who care deeply about protecting forests, fighting climate change, and improving the working conditions and livelihoods of rural \\npeople who produce the things we consume on a daily basis.\\nThe environment gives us countless benefits that we can't repay our entire life. As they are connected with the forest, trees, animals, water, and air. \\nThe forest and trees filter the air and absorb harmful gases. Plants purify water, reduce the chances of flood maintain natural balance and many others.\""
      ]
     },
     "execution_count": 16,
     "metadata": {},
     "output_type": "execute_result"
    }
   ],
   "source": [
    "fh.read()"
   ]
  },
  {
   "cell_type": "code",
   "execution_count": 17,
   "id": "8381a671",
   "metadata": {},
   "outputs": [
    {
     "data": {
      "text/plain": [
       "''"
      ]
     },
     "execution_count": 17,
     "metadata": {},
     "output_type": "execute_result"
    }
   ],
   "source": [
    "fh.read()"
   ]
  },
  {
   "cell_type": "code",
   "execution_count": 19,
   "id": "365ca050",
   "metadata": {},
   "outputs": [
    {
     "data": {
      "text/plain": [
       "0"
      ]
     },
     "execution_count": 19,
     "metadata": {},
     "output_type": "execute_result"
    }
   ],
   "source": [
    "fh.seek(0)"
   ]
  },
  {
   "cell_type": "code",
   "execution_count": 20,
   "id": "48adcc14",
   "metadata": {},
   "outputs": [
    {
     "data": {
      "text/plain": [
       "'Itâ€™s up to all of us to create the future we wantâ€”and that involves changes big and small, in many areas of our lives.\\n'"
      ]
     },
     "execution_count": 20,
     "metadata": {},
     "output_type": "execute_result"
    }
   ],
   "source": [
    "fh.readline()"
   ]
  },
  {
   "cell_type": "code",
   "execution_count": 25,
   "id": "f3951aee",
   "metadata": {},
   "outputs": [
    {
     "data": {
      "text/plain": [
       "' f'"
      ]
     },
     "execution_count": 25,
     "metadata": {},
     "output_type": "execute_result"
    }
   ],
   "source": [
    "fh.readline(2)"
   ]
  },
  {
   "cell_type": "code",
   "execution_count": 26,
   "id": "5480504d",
   "metadata": {},
   "outputs": [
    {
     "data": {
      "text/plain": [
       "'eel overwhelming, so weâ€™re here to guide you in amplifying your individual choices into meaningful collective impact. \\n'"
      ]
     },
     "execution_count": 26,
     "metadata": {},
     "output_type": "execute_result"
    }
   ],
   "source": [
    "fh.readline()"
   ]
  },
  {
   "cell_type": "code",
   "execution_count": 27,
   "id": "3158d569",
   "metadata": {},
   "outputs": [
    {
     "data": {
      "text/plain": [
       "'The first step is often the hardest, but connecting with a global movement of people who are determined to change the world fuels our action with joy and purpose.\\n'"
      ]
     },
     "execution_count": 27,
     "metadata": {},
     "output_type": "execute_result"
    }
   ],
   "source": [
    "fh.readline()"
   ]
  },
  {
   "cell_type": "code",
   "execution_count": 32,
   "id": "c28051a4",
   "metadata": {},
   "outputs": [],
   "source": [
    "fh.close()"
   ]
  },
  {
   "cell_type": "code",
   "execution_count": 28,
   "id": "3db26f59",
   "metadata": {},
   "outputs": [],
   "source": [
    "fh = open('DEMO.txt', 'a')"
   ]
  },
  {
   "cell_type": "code",
   "execution_count": 31,
   "id": "19b74d21",
   "metadata": {},
   "outputs": [
    {
     "ename": "AttributeError",
     "evalue": "'_io.TextIOWrapper' object has no attribute 'append'",
     "output_type": "error",
     "traceback": [
      "\u001b[1;31m---------------------------------------------------------------------------\u001b[0m",
      "\u001b[1;31mAttributeError\u001b[0m                            Traceback (most recent call last)",
      "\u001b[1;32m<ipython-input-31-10a94a04b841>\u001b[0m in \u001b[0;36m<module>\u001b[1;34m\u001b[0m\n\u001b[1;32m----> 1\u001b[1;33m \u001b[0mprint\u001b[0m\u001b[1;33m(\u001b[0m\u001b[0mfh\u001b[0m\u001b[1;33m.\u001b[0m\u001b[0mappend\u001b[0m\u001b[1;33m)\u001b[0m\u001b[1;33m\u001b[0m\u001b[1;33m\u001b[0m\u001b[0m\n\u001b[0m",
      "\u001b[1;31mAttributeError\u001b[0m: '_io.TextIOWrapper' object has no attribute 'append'"
     ]
    }
   ],
   "source": [
    "print(fh.append)"
   ]
  },
  {
   "cell_type": "code",
   "execution_count": 33,
   "id": "9d23003c",
   "metadata": {},
   "outputs": [],
   "source": [
    "fh=open('practise.txt', 'w')"
   ]
  },
  {
   "cell_type": "code",
   "execution_count": 36,
   "id": "523c662d",
   "metadata": {},
   "outputs": [
    {
     "data": {
      "text/plain": [
       "24"
      ]
     },
     "execution_count": 36,
     "metadata": {},
     "output_type": "execute_result"
    }
   ],
   "source": [
    "fh.write('This is a practise text.')"
   ]
  },
  {
   "cell_type": "code",
   "execution_count": 37,
   "id": "f61e2aa2",
   "metadata": {},
   "outputs": [],
   "source": [
    "fh.close()"
   ]
  },
  {
   "cell_type": "code",
   "execution_count": 38,
   "id": "015c7e1b",
   "metadata": {},
   "outputs": [],
   "source": [
    "fh=open('practise.txt', 'w')"
   ]
  },
  {
   "cell_type": "code",
   "execution_count": 39,
   "id": "b14b5b7e",
   "metadata": {},
   "outputs": [
    {
     "data": {
      "text/plain": [
       "29"
      ]
     },
     "execution_count": 39,
     "metadata": {},
     "output_type": "execute_result"
    }
   ],
   "source": [
    "fh.write('Ability enhancement programme')"
   ]
  },
  {
   "cell_type": "code",
   "execution_count": 40,
   "id": "ca1f2f22",
   "metadata": {},
   "outputs": [],
   "source": [
    "fh.close()"
   ]
  },
  {
   "cell_type": "code",
   "execution_count": 41,
   "id": "43638048",
   "metadata": {},
   "outputs": [],
   "source": [
    "fh=open('practise.txt', 'a')"
   ]
  },
  {
   "cell_type": "code",
   "execution_count": 43,
   "id": "577e8d4c",
   "metadata": {},
   "outputs": [
    {
     "data": {
      "text/plain": [
       "20"
      ]
     },
     "execution_count": 43,
     "metadata": {},
     "output_type": "execute_result"
    }
   ],
   "source": [
    "fh.write('\\nThis is a new line\\n')"
   ]
  },
  {
   "cell_type": "code",
   "execution_count": 44,
   "id": "232a492c",
   "metadata": {},
   "outputs": [],
   "source": [
    "fh.close()"
   ]
  },
  {
   "cell_type": "code",
   "execution_count": 45,
   "id": "6d4a6b11",
   "metadata": {},
   "outputs": [],
   "source": [
    "fh=open('practise.txt', 'a')"
   ]
  },
  {
   "cell_type": "code",
   "execution_count": 46,
   "id": "60b3a752",
   "metadata": {},
   "outputs": [
    {
     "data": {
      "text/plain": [
       "16"
      ]
     },
     "execution_count": 46,
     "metadata": {},
     "output_type": "execute_result"
    }
   ],
   "source": [
    "fh.write('\\nThis is a line\\n')"
   ]
  },
  {
   "cell_type": "code",
   "execution_count": 47,
   "id": "e3a472d9",
   "metadata": {},
   "outputs": [],
   "source": [
    "fh.close()"
   ]
  },
  {
   "cell_type": "code",
   "execution_count": 48,
   "id": "8e57ac62",
   "metadata": {},
   "outputs": [],
   "source": [
    "fh=open('practise.txt', 'a')"
   ]
  },
  {
   "cell_type": "code",
   "execution_count": 49,
   "id": "ec7f628f",
   "metadata": {},
   "outputs": [
    {
     "data": {
      "text/plain": [
       "27"
      ]
     },
     "execution_count": 49,
     "metadata": {},
     "output_type": "execute_result"
    }
   ],
   "source": [
    "fh.write('abcdefghijklmnopqrstuvwxyz\\n')"
   ]
  },
  {
   "cell_type": "code",
   "execution_count": 50,
   "id": "5a1dcddc",
   "metadata": {},
   "outputs": [],
   "source": [
    "fh.close()"
   ]
  },
  {
   "cell_type": "code",
   "execution_count": 51,
   "id": "956dd82b",
   "metadata": {},
   "outputs": [],
   "source": [
    "import os"
   ]
  },
  {
   "cell_type": "code",
   "execution_count": 52,
   "id": "5870ccf0",
   "metadata": {},
   "outputs": [],
   "source": [
    "os.remove('practise.txt')"
   ]
  },
  {
   "cell_type": "code",
   "execution_count": 54,
   "id": "e631375c",
   "metadata": {},
   "outputs": [
    {
     "ename": "FileNotFoundError",
     "evalue": "[WinError 2] The system cannot find the file specified: 'dtydy.txt'",
     "output_type": "error",
     "traceback": [
      "\u001b[1;31m---------------------------------------------------------------------------\u001b[0m",
      "\u001b[1;31mFileNotFoundError\u001b[0m                         Traceback (most recent call last)",
      "\u001b[1;32m<ipython-input-54-ec40d1a1100b>\u001b[0m in \u001b[0;36m<module>\u001b[1;34m\u001b[0m\n\u001b[1;32m----> 1\u001b[1;33m \u001b[0mos\u001b[0m\u001b[1;33m.\u001b[0m\u001b[0mremove\u001b[0m\u001b[1;33m(\u001b[0m\u001b[1;34m'dtydy.txt'\u001b[0m\u001b[1;33m)\u001b[0m\u001b[1;33m\u001b[0m\u001b[1;33m\u001b[0m\u001b[0m\n\u001b[0m",
      "\u001b[1;31mFileNotFoundError\u001b[0m: [WinError 2] The system cannot find the file specified: 'dtydy.txt'"
     ]
    }
   ],
   "source": [
    "os.remove('dtydy.txt')"
   ]
  },
  {
   "cell_type": "code",
   "execution_count": 58,
   "id": "8897c2d3",
   "metadata": {},
   "outputs": [
    {
     "data": {
      "text/plain": [
       "True"
      ]
     },
     "execution_count": 58,
     "metadata": {},
     "output_type": "execute_result"
    }
   ],
   "source": [
    "os.path.exists('demo.txt')"
   ]
  },
  {
   "cell_type": "code",
   "execution_count": null,
   "id": "213af75f",
   "metadata": {},
   "outputs": [
    {
     "name": "stdout",
     "output_type": "stream",
     "text": [
      "Enter operation : \n",
      "1.create\n",
      "2.delete\n",
      "3.Exit\n",
      "1\n",
      "Enter file name with extenion\n"
     ]
    }
   ],
   "source": [
    "import os\n",
    "import sys\n",
    "\n",
    "while(True):\n",
    "    print('Enter operation : \\n1.create\\n2.delete\\n3.Exit')\n",
    "    n = int(input())\n",
    "    if n == 1:\n",
    "        print('Enter file name with extenion')\n",
    "        new = input()\n",
    "        fh = open(new, 'w')\n",
    "        print('File is created')\n",
    "    elif n == 2:\n",
    "        inpt = input(\"Enter file name with extension to delete \")\n",
    "        if os.path.exists(inpt) == False:\n",
    "            print('File does not exists')\n",
    "        else:\n",
    "            print('File is deleted')\n",
    "            os.remove(inpt)\n",
    "    elif n == 3:\n",
    "        sys.exit()\n",
    "        break\n",
    "sys.exit()"
   ]
  },
  {
   "cell_type": "markdown",
   "id": "fb512a15",
   "metadata": {},
   "source": [
    "Encryption and Decruption"
   ]
  },
  {
   "cell_type": "code",
   "execution_count": null,
   "id": "f78e3b3b",
   "metadata": {},
   "outputs": [],
   "source": [
    "pip install "
   ]
  }
 ],
 "metadata": {
  "kernelspec": {
   "display_name": "Python 3",
   "language": "python",
   "name": "python3"
  },
  "language_info": {
   "codemirror_mode": {
    "name": "ipython",
    "version": 3
   },
   "file_extension": ".py",
   "mimetype": "text/x-python",
   "name": "python",
   "nbconvert_exporter": "python",
   "pygments_lexer": "ipython3",
   "version": "3.8.8"
  }
 },
 "nbformat": 4,
 "nbformat_minor": 5
}
